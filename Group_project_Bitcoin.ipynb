{
 "cells": [
  {
   "cell_type": "code",
   "execution_count": 16,
   "id": "8c9b9933",
   "metadata": {},
   "outputs": [],
   "source": [
    "from bs4 import BeautifulSoup\n",
    "import requests\n",
    "from selenium import webdriver\n",
    "from selenium.webdriver.common.keys import Keys\n",
    "from selenium.webdriver.support.ui import WebDriverWait\n",
    "import pandas as pd\n",
    "import re\n",
    "import seaborn as sns\n"
   ]
  },
  {
   "cell_type": "code",
   "execution_count": 3,
   "id": "6089e77c",
   "metadata": {},
   "outputs": [],
   "source": [
    "#Web scraping\n",
    "URL = \"https://finance.yahoo.com/quote/BTC-USD/history?period1=1410912000&period2=1629849600&interval=1mo&filter=history&frequency=1mo&includeAdjustedClose=true\"\n",
    "driver = webdriver.Chrome(executable_path='/Users/KelvinTang/Documents/Xccelerate Data Science Course/chromedriver 2')\n",
    "driver.get(URL)\n",
    "html = driver.page_source\n",
    "soup = BeautifulSoup(html, \"html.parser\")\n",
    "\n"
   ]
  },
  {
   "cell_type": "code",
   "execution_count": 4,
   "id": "5d6dc227",
   "metadata": {},
   "outputs": [],
   "source": [
    "#data cleaning\n",
    "len_date=len(soup.find_all(class_=\"Py(10px) Ta(start) Pend(10px)\"))"
   ]
  },
  {
   "cell_type": "code",
   "execution_count": 5,
   "id": "5c3aa444",
   "metadata": {},
   "outputs": [],
   "source": [
    "len_num= len(soup.find_all(class_=\"Py(10px) Pstart(10px)\"))"
   ]
  },
  {
   "cell_type": "code",
   "execution_count": 6,
   "id": "75ea4ad9",
   "metadata": {},
   "outputs": [],
   "source": [
    "dictionary = {\"date\":[], \"open\":[], \"high\":[], \"low\":[], \"close\":[], \"adj_close\":[], \"volume\":[]}\n",
    "lst_date = [dictionary[\"date\"].append(soup.find_all(class_=\"Py(10px) Ta(start) Pend(10px)\")[i].text) for i in range(len_date)]\n",
    "lst_open = [dictionary[\"open\"].append(soup.find_all(class_=\"Py(10px) Pstart(10px)\")[i].text) for i in range(0,len_num,6)]\n",
    "lst_high = [dictionary[\"high\"].append(soup.find_all(class_=\"Py(10px) Pstart(10px)\")[i].text) for i in range(1,len_num,6)]\n",
    "lst_low = [dictionary[\"low\"].append(soup.find_all(class_=\"Py(10px) Pstart(10px)\")[i].text) for i in range(2,len_num,6)]\n",
    "lst_close = [dictionary[\"close\"].append(soup.find_all(class_=\"Py(10px) Pstart(10px)\")[i].text) for i in range(3,len_num,6)]\n",
    "lst_adj_close = [dictionary[\"adj_close\"].append(soup.find_all(class_=\"Py(10px) Pstart(10px)\")[i].text) for i in range(4,len_num,6)]\n",
    "lst_volume = [dictionary[\"volume\"].append(soup.find_all(class_=\"Py(10px) Pstart(10px)\")[i].text) for i in range(5,len_num,6)]\n",
    "\n"
   ]
  },
  {
   "cell_type": "code",
   "execution_count": 7,
   "id": "845fd22c",
   "metadata": {},
   "outputs": [
    {
     "data": {
      "text/html": [
       "<div>\n",
       "<style scoped>\n",
       "    .dataframe tbody tr th:only-of-type {\n",
       "        vertical-align: middle;\n",
       "    }\n",
       "\n",
       "    .dataframe tbody tr th {\n",
       "        vertical-align: top;\n",
       "    }\n",
       "\n",
       "    .dataframe thead th {\n",
       "        text-align: right;\n",
       "    }\n",
       "</style>\n",
       "<table border=\"1\" class=\"dataframe\">\n",
       "  <thead>\n",
       "    <tr style=\"text-align: right;\">\n",
       "      <th></th>\n",
       "      <th>date</th>\n",
       "      <th>open</th>\n",
       "      <th>high</th>\n",
       "      <th>low</th>\n",
       "      <th>close</th>\n",
       "      <th>adj_close</th>\n",
       "      <th>volume</th>\n",
       "    </tr>\n",
       "  </thead>\n",
       "  <tbody>\n",
       "    <tr>\n",
       "      <th>0</th>\n",
       "      <td>2021-08-01</td>\n",
       "      <td>41460.84</td>\n",
       "      <td>50482.08</td>\n",
       "      <td>37458.00</td>\n",
       "      <td>47166.69</td>\n",
       "      <td>47166.69</td>\n",
       "      <td>1014674184428</td>\n",
       "    </tr>\n",
       "    <tr>\n",
       "      <th>1</th>\n",
       "      <td>2021-07-01</td>\n",
       "      <td>35035.98</td>\n",
       "      <td>42235.55</td>\n",
       "      <td>29360.96</td>\n",
       "      <td>41626.20</td>\n",
       "      <td>41626.20</td>\n",
       "      <td>819103381204</td>\n",
       "    </tr>\n",
       "    <tr>\n",
       "      <th>2</th>\n",
       "      <td>2021-06-01</td>\n",
       "      <td>37293.79</td>\n",
       "      <td>41295.27</td>\n",
       "      <td>28893.62</td>\n",
       "      <td>35040.84</td>\n",
       "      <td>35040.84</td>\n",
       "      <td>1189647451707</td>\n",
       "    </tr>\n",
       "    <tr>\n",
       "      <th>3</th>\n",
       "      <td>2021-05-01</td>\n",
       "      <td>57714.66</td>\n",
       "      <td>59519.36</td>\n",
       "      <td>30681.50</td>\n",
       "      <td>37332.86</td>\n",
       "      <td>37332.86</td>\n",
       "      <td>1976593438572</td>\n",
       "    </tr>\n",
       "    <tr>\n",
       "      <th>4</th>\n",
       "      <td>2021-04-01</td>\n",
       "      <td>58926.56</td>\n",
       "      <td>64863.10</td>\n",
       "      <td>47159.48</td>\n",
       "      <td>57750.18</td>\n",
       "      <td>57750.18</td>\n",
       "      <td>1844481772417</td>\n",
       "    </tr>\n",
       "    <tr>\n",
       "      <th>...</th>\n",
       "      <td>...</td>\n",
       "      <td>...</td>\n",
       "      <td>...</td>\n",
       "      <td>...</td>\n",
       "      <td>...</td>\n",
       "      <td>...</td>\n",
       "      <td>...</td>\n",
       "    </tr>\n",
       "    <tr>\n",
       "      <th>78</th>\n",
       "      <td>2015-02-01</td>\n",
       "      <td>216.87</td>\n",
       "      <td>265.61</td>\n",
       "      <td>212.01</td>\n",
       "      <td>254.26</td>\n",
       "      <td>254.26</td>\n",
       "      <td>711518700</td>\n",
       "    </tr>\n",
       "    <tr>\n",
       "      <th>79</th>\n",
       "      <td>2015-01-01</td>\n",
       "      <td>320.43</td>\n",
       "      <td>320.43</td>\n",
       "      <td>171.51</td>\n",
       "      <td>217.46</td>\n",
       "      <td>217.46</td>\n",
       "      <td>1098811912</td>\n",
       "    </tr>\n",
       "    <tr>\n",
       "      <th>80</th>\n",
       "      <td>2014-12-01</td>\n",
       "      <td>378.25</td>\n",
       "      <td>384.04</td>\n",
       "      <td>304.23</td>\n",
       "      <td>320.19</td>\n",
       "      <td>320.19</td>\n",
       "      <td>553102310</td>\n",
       "    </tr>\n",
       "    <tr>\n",
       "      <th>81</th>\n",
       "      <td>2014-11-01</td>\n",
       "      <td>338.65</td>\n",
       "      <td>457.09</td>\n",
       "      <td>320.63</td>\n",
       "      <td>378.05</td>\n",
       "      <td>378.05</td>\n",
       "      <td>659733360</td>\n",
       "    </tr>\n",
       "    <tr>\n",
       "      <th>82</th>\n",
       "      <td>2014-10-01</td>\n",
       "      <td>387.43</td>\n",
       "      <td>411.70</td>\n",
       "      <td>289.30</td>\n",
       "      <td>338.32</td>\n",
       "      <td>338.32</td>\n",
       "      <td>902994450</td>\n",
       "    </tr>\n",
       "  </tbody>\n",
       "</table>\n",
       "<p>83 rows × 7 columns</p>\n",
       "</div>"
      ],
      "text/plain": [
       "         date      open      high       low     close adj_close         volume\n",
       "0  2021-08-01  41460.84  50482.08  37458.00  47166.69  47166.69  1014674184428\n",
       "1  2021-07-01  35035.98  42235.55  29360.96  41626.20  41626.20   819103381204\n",
       "2  2021-06-01  37293.79  41295.27  28893.62  35040.84  35040.84  1189647451707\n",
       "3  2021-05-01  57714.66  59519.36  30681.50  37332.86  37332.86  1976593438572\n",
       "4  2021-04-01  58926.56  64863.10  47159.48  57750.18  57750.18  1844481772417\n",
       "..        ...       ...       ...       ...       ...       ...            ...\n",
       "78 2015-02-01    216.87    265.61    212.01    254.26    254.26      711518700\n",
       "79 2015-01-01    320.43    320.43    171.51    217.46    217.46     1098811912\n",
       "80 2014-12-01    378.25    384.04    304.23    320.19    320.19      553102310\n",
       "81 2014-11-01    338.65    457.09    320.63    378.05    378.05      659733360\n",
       "82 2014-10-01    387.43    411.70    289.30    338.32    338.32      902994450\n",
       "\n",
       "[83 rows x 7 columns]"
      ]
     },
     "execution_count": 7,
     "metadata": {},
     "output_type": "execute_result"
    }
   ],
   "source": [
    "df=pd.DataFrame(dictionary)\n",
    "df[\"date\"] = pd.to_datetime(df[\"date\"])\n",
    "df.replace(to_replace=r',', value='', regex=True, inplace=True)\n",
    "df"
   ]
  },
  {
   "cell_type": "code",
   "execution_count": 8,
   "id": "6c87c5bc",
   "metadata": {},
   "outputs": [],
   "source": [
    "df[\"open\"] = [float(item) for item in df[\"open\"]]\n",
    "df[\"high\"] = [float(item) for item in df[\"high\"]]\n",
    "df[\"low\"] = [float(item) for item in df[\"low\"]]\n",
    "df[\"close\"] = [float(item) for item in df[\"close\"]]\n",
    "df[\"adj_close\"] = [float(item) for item in df[\"adj_close\"]]\n",
    "df[\"volume\"] = [float(item) for item in df[\"volume\"]]"
   ]
  },
  {
   "cell_type": "code",
   "execution_count": 9,
   "id": "5d902950",
   "metadata": {},
   "outputs": [
    {
     "data": {
      "text/plain": [
       "date         datetime64[ns]\n",
       "open                float64\n",
       "high                float64\n",
       "low                 float64\n",
       "close               float64\n",
       "adj_close           float64\n",
       "volume              float64\n",
       "dtype: object"
      ]
     },
     "execution_count": 9,
     "metadata": {},
     "output_type": "execute_result"
    }
   ],
   "source": [
    "df.dtypes"
   ]
  },
  {
   "cell_type": "code",
   "execution_count": 10,
   "id": "bf932d0b",
   "metadata": {},
   "outputs": [],
   "source": [
    "df['amplitude%'] = (df['high'] - df['low'])/df['low']*100\n",
    "#df['volume']= round(df['volume'] / 1000000 , 2)"
   ]
  },
  {
   "cell_type": "code",
   "execution_count": 11,
   "id": "0f627ebd",
   "metadata": {},
   "outputs": [
    {
     "data": {
      "text/html": [
       "<div>\n",
       "<style scoped>\n",
       "    .dataframe tbody tr th:only-of-type {\n",
       "        vertical-align: middle;\n",
       "    }\n",
       "\n",
       "    .dataframe tbody tr th {\n",
       "        vertical-align: top;\n",
       "    }\n",
       "\n",
       "    .dataframe thead th {\n",
       "        text-align: right;\n",
       "    }\n",
       "</style>\n",
       "<table border=\"1\" class=\"dataframe\">\n",
       "  <thead>\n",
       "    <tr style=\"text-align: right;\">\n",
       "      <th></th>\n",
       "      <th>date</th>\n",
       "      <th>open</th>\n",
       "      <th>high</th>\n",
       "      <th>low</th>\n",
       "      <th>close</th>\n",
       "      <th>adj_close</th>\n",
       "      <th>volume</th>\n",
       "      <th>amplitude%</th>\n",
       "    </tr>\n",
       "  </thead>\n",
       "  <tbody>\n",
       "    <tr>\n",
       "      <th>0</th>\n",
       "      <td>2021-08-01</td>\n",
       "      <td>41460.84</td>\n",
       "      <td>50482.08</td>\n",
       "      <td>37458.00</td>\n",
       "      <td>47166.69</td>\n",
       "      <td>47166.69</td>\n",
       "      <td>1.014674e+12</td>\n",
       "      <td>34.769822</td>\n",
       "    </tr>\n",
       "    <tr>\n",
       "      <th>1</th>\n",
       "      <td>2021-07-01</td>\n",
       "      <td>35035.98</td>\n",
       "      <td>42235.55</td>\n",
       "      <td>29360.96</td>\n",
       "      <td>41626.20</td>\n",
       "      <td>41626.20</td>\n",
       "      <td>8.191034e+11</td>\n",
       "      <td>43.849350</td>\n",
       "    </tr>\n",
       "    <tr>\n",
       "      <th>2</th>\n",
       "      <td>2021-06-01</td>\n",
       "      <td>37293.79</td>\n",
       "      <td>41295.27</td>\n",
       "      <td>28893.62</td>\n",
       "      <td>35040.84</td>\n",
       "      <td>35040.84</td>\n",
       "      <td>1.189647e+12</td>\n",
       "      <td>42.921759</td>\n",
       "    </tr>\n",
       "    <tr>\n",
       "      <th>3</th>\n",
       "      <td>2021-05-01</td>\n",
       "      <td>57714.66</td>\n",
       "      <td>59519.36</td>\n",
       "      <td>30681.50</td>\n",
       "      <td>37332.86</td>\n",
       "      <td>37332.86</td>\n",
       "      <td>1.976593e+12</td>\n",
       "      <td>93.991037</td>\n",
       "    </tr>\n",
       "    <tr>\n",
       "      <th>4</th>\n",
       "      <td>2021-04-01</td>\n",
       "      <td>58926.56</td>\n",
       "      <td>64863.10</td>\n",
       "      <td>47159.48</td>\n",
       "      <td>57750.18</td>\n",
       "      <td>57750.18</td>\n",
       "      <td>1.844482e+12</td>\n",
       "      <td>37.539897</td>\n",
       "    </tr>\n",
       "    <tr>\n",
       "      <th>...</th>\n",
       "      <td>...</td>\n",
       "      <td>...</td>\n",
       "      <td>...</td>\n",
       "      <td>...</td>\n",
       "      <td>...</td>\n",
       "      <td>...</td>\n",
       "      <td>...</td>\n",
       "      <td>...</td>\n",
       "    </tr>\n",
       "    <tr>\n",
       "      <th>78</th>\n",
       "      <td>2015-02-01</td>\n",
       "      <td>216.87</td>\n",
       "      <td>265.61</td>\n",
       "      <td>212.01</td>\n",
       "      <td>254.26</td>\n",
       "      <td>254.26</td>\n",
       "      <td>7.115187e+08</td>\n",
       "      <td>25.281826</td>\n",
       "    </tr>\n",
       "    <tr>\n",
       "      <th>79</th>\n",
       "      <td>2015-01-01</td>\n",
       "      <td>320.43</td>\n",
       "      <td>320.43</td>\n",
       "      <td>171.51</td>\n",
       "      <td>217.46</td>\n",
       "      <td>217.46</td>\n",
       "      <td>1.098812e+09</td>\n",
       "      <td>86.828756</td>\n",
       "    </tr>\n",
       "    <tr>\n",
       "      <th>80</th>\n",
       "      <td>2014-12-01</td>\n",
       "      <td>378.25</td>\n",
       "      <td>384.04</td>\n",
       "      <td>304.23</td>\n",
       "      <td>320.19</td>\n",
       "      <td>320.19</td>\n",
       "      <td>5.531023e+08</td>\n",
       "      <td>26.233442</td>\n",
       "    </tr>\n",
       "    <tr>\n",
       "      <th>81</th>\n",
       "      <td>2014-11-01</td>\n",
       "      <td>338.65</td>\n",
       "      <td>457.09</td>\n",
       "      <td>320.63</td>\n",
       "      <td>378.05</td>\n",
       "      <td>378.05</td>\n",
       "      <td>6.597334e+08</td>\n",
       "      <td>42.559960</td>\n",
       "    </tr>\n",
       "    <tr>\n",
       "      <th>82</th>\n",
       "      <td>2014-10-01</td>\n",
       "      <td>387.43</td>\n",
       "      <td>411.70</td>\n",
       "      <td>289.30</td>\n",
       "      <td>338.32</td>\n",
       "      <td>338.32</td>\n",
       "      <td>9.029944e+08</td>\n",
       "      <td>42.309022</td>\n",
       "    </tr>\n",
       "  </tbody>\n",
       "</table>\n",
       "<p>83 rows × 8 columns</p>\n",
       "</div>"
      ],
      "text/plain": [
       "         date      open      high       low     close  adj_close  \\\n",
       "0  2021-08-01  41460.84  50482.08  37458.00  47166.69   47166.69   \n",
       "1  2021-07-01  35035.98  42235.55  29360.96  41626.20   41626.20   \n",
       "2  2021-06-01  37293.79  41295.27  28893.62  35040.84   35040.84   \n",
       "3  2021-05-01  57714.66  59519.36  30681.50  37332.86   37332.86   \n",
       "4  2021-04-01  58926.56  64863.10  47159.48  57750.18   57750.18   \n",
       "..        ...       ...       ...       ...       ...        ...   \n",
       "78 2015-02-01    216.87    265.61    212.01    254.26     254.26   \n",
       "79 2015-01-01    320.43    320.43    171.51    217.46     217.46   \n",
       "80 2014-12-01    378.25    384.04    304.23    320.19     320.19   \n",
       "81 2014-11-01    338.65    457.09    320.63    378.05     378.05   \n",
       "82 2014-10-01    387.43    411.70    289.30    338.32     338.32   \n",
       "\n",
       "          volume  amplitude%  \n",
       "0   1.014674e+12   34.769822  \n",
       "1   8.191034e+11   43.849350  \n",
       "2   1.189647e+12   42.921759  \n",
       "3   1.976593e+12   93.991037  \n",
       "4   1.844482e+12   37.539897  \n",
       "..           ...         ...  \n",
       "78  7.115187e+08   25.281826  \n",
       "79  1.098812e+09   86.828756  \n",
       "80  5.531023e+08   26.233442  \n",
       "81  6.597334e+08   42.559960  \n",
       "82  9.029944e+08   42.309022  \n",
       "\n",
       "[83 rows x 8 columns]"
      ]
     },
     "execution_count": 11,
     "metadata": {},
     "output_type": "execute_result"
    }
   ],
   "source": [
    "df"
   ]
  },
  {
   "cell_type": "code",
   "execution_count": 12,
   "id": "30ed23df",
   "metadata": {},
   "outputs": [
    {
     "data": {
      "text/plain": [
       "[<matplotlib.lines.Line2D at 0x7fb454b2fa30>]"
      ]
     },
     "execution_count": 12,
     "metadata": {},
     "output_type": "execute_result"
    },
    {
     "data": {
      "image/png": "[encoded data removed]",
      "text/plain": [
       "<Figure size 936x576 with 1 Axes>"
      ]
     },
     "metadata": {
      "needs_background": "light"
     },
     "output_type": "display_data"
    }
   ],
   "source": [
    "#Value of bitcoin from 2014-2021\n",
    "import matplotlib.pyplot as plt\n",
    "fig = plt.figure(figsize=(13,8))\n",
    "ax = fig.add_subplot()\n",
    "ax.plot(df[\"date\"], df[\"close\"])"
   ]
  },
  {
   "cell_type": "code",
   "execution_count": 13,
   "id": "ca295604",
   "metadata": {},
   "outputs": [
    {
     "data": {
      "text/plain": [
       "<AxesSubplot:xlabel='Year'>"
      ]
     },
     "execution_count": 13,
     "metadata": {},
     "output_type": "execute_result"
    },
    {
     "data": {
      "image/png": "[encoded data removed]",
      "text/plain": [
       "<Figure size 432x288 with 1 Axes>"
      ]
     },
     "metadata": {
      "needs_background": "light"
     },
     "output_type": "display_data"
    }
   ],
   "source": [
    "#Volume of bitcoin from 2014-2021\n",
    "df[\"Year\"] = df[\"date\"].map(lambda x: x.year)\n",
    "df.groupby(\"Year\")[\"volume\"].sum().plot(kind='bar', logy=True)"
   ]
  },
  {
   "cell_type": "code",
   "execution_count": 14,
   "id": "9c6346da",
   "metadata": {},
   "outputs": [],
   "source": [
    "#Correlation of the features\n",
    "correlation_matrix=df.corr(method='pearson')"
   ]
  },
  {
   "cell_type": "code",
   "execution_count": 17,
   "id": "7a4244e3",
   "metadata": {},
   "outputs": [
    {
     "data": {
      "text/plain": [
       "<AxesSubplot:>"
      ]
     },
     "execution_count": 17,
     "metadata": {},
     "output_type": "execute_result"
    },
    {
     "data": {
      "image/png": "[encoded data removed]",
      "text/plain": [
       "<Figure size 432x288 with 2 Axes>"
      ]
     },
     "metadata": {
      "needs_background": "light"
     },
     "output_type": "display_data"
    }
   ],
   "source": [
    "sns.heatmap(correlation_matrix,annot=True, cmap=\"YlGnBu\")"
   ]
  },
  {
   "cell_type": "code",
   "execution_count": 18,
   "id": "817f257d",
   "metadata": {},
   "outputs": [
    {
     "data": {
      "image/png": "[encoded data removed]",
      "text/plain": [
       "<Figure size 936x576 with 1 Axes>"
      ]
     },
     "metadata": {
      "needs_background": "light"
     },
     "output_type": "display_data"
    }
   ],
   "source": [
    "import matplotlib.pyplot as plt\n",
    "import matplotlib.lines as mlines\n",
    "import matplotlib.transforms as mtransforms\n",
    "fig = plt.figure(figsize=(13,8))\n",
    "ax = fig.add_subplot()\n",
    "ax.scatter(df[\"amplitude%\"], df[\"volume\"], c='orange')\n",
    "plt.title('Amplitude% to volume')\n",
    "plt.xlabel('Amplitude%')\n",
    "plt.ylabel('Volume')\n",
    "plt.show()"
   ]
  },
  {
   "cell_type": "code",
   "execution_count": 19,
   "id": "8c611034",
   "metadata": {},
   "outputs": [
    {
     "data": {
      "image/png": "[encoded data removed]",
      "text/plain": [
       "<Figure size 936x576 with 1 Axes>"
      ]
     },
     "metadata": {
      "needs_background": "light"
     },
     "output_type": "display_data"
    }
   ],
   "source": [
    "#Strong postive correlation between close price and volume\n",
    "fig = plt.figure(figsize=(13,8))\n",
    "ax = fig.add_subplot()\n",
    "ax.scatter(df[\"close\"], df[\"volume\"], c='g')\n",
    "line = mlines.Line2D([0, 1], [0, 1], color='red')\n",
    "transform = ax.transAxes\n",
    "line.set_transform(transform)\n",
    "ax.add_line(line)\n",
    "plt.title('Close price to volume')\n",
    "plt.xlabel('Close price')\n",
    "plt.ylabel('Volume')\n",
    "plt.show()"
   ]
  },
  {
   "cell_type": "code",
   "execution_count": 20,
   "id": "6435fc26",
   "metadata": {},
   "outputs": [
    {
     "data": {
      "text/plain": [
       "Text(0.5, 1.0, '')"
      ]
     },
     "execution_count": 20,
     "metadata": {},
     "output_type": "execute_result"
    },
    {
     "data": {
      "image/png": "[encoded data removed]",
      "text/plain": [
       "<Figure size 432x288 with 1 Axes>"
      ]
     },
     "metadata": {
      "needs_background": "light"
     },
     "output_type": "display_data"
    }
   ],
   "source": [
    "#boxplot showing the close price of different years\n",
    "boxplot = df.boxplot(by=\"Year\", column=[\"close\"], grid=False)\n",
    "boxplot.set_ylabel(\"close\")\n",
    "boxplot.set_title(\"\")"
   ]
  },
  {
   "cell_type": "code",
   "execution_count": 21,
   "id": "e2b88ce6",
   "metadata": {},
   "outputs": [
    {
     "data": {
      "text/plain": [
       "<AxesSubplot:xlabel='date'>"
      ]
     },
     "execution_count": 21,
     "metadata": {},
     "output_type": "execute_result"
    },
    {
     "data": {
      "image/png": "[encoded data removed]",
      "text/plain": [
       "<Figure size 1080x720 with 1 Axes>"
      ]
     },
     "metadata": {
      "needs_background": "light"
     },
     "output_type": "display_data"
    }
   ],
   "source": [
    "#bitcoin close price over the years in orange\n",
    "df.set_index('date')['open'].plot(figsize=(15,10), color='orange')"
   ]
  },
  {
   "cell_type": "code",
   "execution_count": 62,
   "id": "2500876a",
   "metadata": {},
   "outputs": [
    {
     "data": {
      "text/plain": [
       "<AxesSubplot:xlabel='date', ylabel='open'>"
      ]
     },
     "execution_count": 62,
     "metadata": {},
     "output_type": "execute_result"
    },
    {
     "data": {
      "image/png": "[encoded data removed]",
      "text/plain": [
       "<Figure size 1080x720 with 1 Axes>"
      ]
     },
     "metadata": {
      "needs_background": "light"
     },
     "output_type": "display_data"
    }
   ],
   "source": [
    "#Want to take a closer look to the open price from Jul2020 to Jul 2021\n",
    "df.head(15).set_index('date')[['open']].plot(figsize=(15,10), color='orange', ylabel ='Open')"
   ]
  },
  {
   "cell_type": "code",
   "execution_count": 22,
   "id": "eb01bf7c",
   "metadata": {},
   "outputs": [
    {
     "data": {
      "text/plain": [
       "<AxesSubplot:xlabel='date', ylabel='Open'>"
      ]
     },
     "execution_count": 22,
     "metadata": {},
     "output_type": "execute_result"
    },
    {
     "data": {
      "image/png": "[encoded data removed]",
      "text/plain": [
       "<Figure size 1080x720 with 1 Axes>"
      ]
     },
     "metadata": {
      "needs_background": "light"
     },
     "output_type": "display_data"
    }
   ],
   "source": [
    "#Seeing the open price from Jan 2021\n",
    "df.head(8).set_index('date')[['open']].plot(figsize=(15,10), color='orange', ylabel='Open')"
   ]
  },
  {
   "cell_type": "code",
   "execution_count": 52,
   "id": "587fd399",
   "metadata": {},
   "outputs": [
    {
     "data": {
      "text/html": [
       "<div>\n",
       "<style scoped>\n",
       "    .dataframe tbody tr th:only-of-type {\n",
       "        vertical-align: middle;\n",
       "    }\n",
       "\n",
       "    .dataframe tbody tr th {\n",
       "        vertical-align: top;\n",
       "    }\n",
       "\n",
       "    .dataframe thead th {\n",
       "        text-align: right;\n",
       "    }\n",
       "</style>\n",
       "<table border=\"1\" class=\"dataframe\">\n",
       "  <thead>\n",
       "    <tr style=\"text-align: right;\">\n",
       "      <th></th>\n",
       "      <th>date</th>\n",
       "      <th>open</th>\n",
       "      <th>high</th>\n",
       "      <th>low</th>\n",
       "      <th>close</th>\n",
       "      <th>adj_close</th>\n",
       "      <th>volume</th>\n",
       "      <th>amplitude%</th>\n",
       "      <th>Year</th>\n",
       "    </tr>\n",
       "  </thead>\n",
       "  <tbody>\n",
       "    <tr>\n",
       "      <th>0</th>\n",
       "      <td>2021-08-01</td>\n",
       "      <td>41460.84</td>\n",
       "      <td>50482.08</td>\n",
       "      <td>37458.00</td>\n",
       "      <td>48960.79</td>\n",
       "      <td>48960.79</td>\n",
       "      <td>8.264614e+11</td>\n",
       "      <td>34.769822</td>\n",
       "      <td>2021</td>\n",
       "    </tr>\n",
       "    <tr>\n",
       "      <th>1</th>\n",
       "      <td>2021-07-01</td>\n",
       "      <td>35035.98</td>\n",
       "      <td>42235.55</td>\n",
       "      <td>29360.96</td>\n",
       "      <td>41626.20</td>\n",
       "      <td>41626.20</td>\n",
       "      <td>8.191034e+11</td>\n",
       "      <td>43.849350</td>\n",
       "      <td>2021</td>\n",
       "    </tr>\n",
       "    <tr>\n",
       "      <th>2</th>\n",
       "      <td>2021-06-01</td>\n",
       "      <td>37293.79</td>\n",
       "      <td>41295.27</td>\n",
       "      <td>28893.62</td>\n",
       "      <td>35040.84</td>\n",
       "      <td>35040.84</td>\n",
       "      <td>1.189647e+12</td>\n",
       "      <td>42.921759</td>\n",
       "      <td>2021</td>\n",
       "    </tr>\n",
       "    <tr>\n",
       "      <th>3</th>\n",
       "      <td>2021-05-01</td>\n",
       "      <td>57714.66</td>\n",
       "      <td>59519.36</td>\n",
       "      <td>30681.50</td>\n",
       "      <td>37332.86</td>\n",
       "      <td>37332.86</td>\n",
       "      <td>1.976593e+12</td>\n",
       "      <td>93.991037</td>\n",
       "      <td>2021</td>\n",
       "    </tr>\n",
       "    <tr>\n",
       "      <th>4</th>\n",
       "      <td>2021-04-01</td>\n",
       "      <td>58926.56</td>\n",
       "      <td>64863.10</td>\n",
       "      <td>47159.48</td>\n",
       "      <td>57750.18</td>\n",
       "      <td>57750.18</td>\n",
       "      <td>1.844482e+12</td>\n",
       "      <td>37.539897</td>\n",
       "      <td>2021</td>\n",
       "    </tr>\n",
       "    <tr>\n",
       "      <th>5</th>\n",
       "      <td>2021-03-01</td>\n",
       "      <td>45159.50</td>\n",
       "      <td>61683.86</td>\n",
       "      <td>45115.09</td>\n",
       "      <td>58918.83</td>\n",
       "      <td>58918.83</td>\n",
       "      <td>1.681184e+12</td>\n",
       "      <td>36.725561</td>\n",
       "      <td>2021</td>\n",
       "    </tr>\n",
       "    <tr>\n",
       "      <th>6</th>\n",
       "      <td>2021-02-01</td>\n",
       "      <td>33114.58</td>\n",
       "      <td>58330.57</td>\n",
       "      <td>32384.23</td>\n",
       "      <td>45137.77</td>\n",
       "      <td>45137.77</td>\n",
       "      <td>2.267153e+12</td>\n",
       "      <td>80.120293</td>\n",
       "      <td>2021</td>\n",
       "    </tr>\n",
       "    <tr>\n",
       "      <th>7</th>\n",
       "      <td>2021-01-01</td>\n",
       "      <td>28994.01</td>\n",
       "      <td>41946.74</td>\n",
       "      <td>28722.76</td>\n",
       "      <td>33114.36</td>\n",
       "      <td>33114.36</td>\n",
       "      <td>2.155904e+12</td>\n",
       "      <td>46.040074</td>\n",
       "      <td>2021</td>\n",
       "    </tr>\n",
       "    <tr>\n",
       "      <th>8</th>\n",
       "      <td>2020-12-01</td>\n",
       "      <td>19633.77</td>\n",
       "      <td>29244.88</td>\n",
       "      <td>17619.53</td>\n",
       "      <td>29001.72</td>\n",
       "      <td>29001.72</td>\n",
       "      <td>1.212260e+12</td>\n",
       "      <td>65.979910</td>\n",
       "      <td>2020</td>\n",
       "    </tr>\n",
       "    <tr>\n",
       "      <th>9</th>\n",
       "      <td>2020-11-01</td>\n",
       "      <td>13781.00</td>\n",
       "      <td>19749.26</td>\n",
       "      <td>13243.16</td>\n",
       "      <td>19625.84</td>\n",
       "      <td>19625.84</td>\n",
       "      <td>1.093145e+12</td>\n",
       "      <td>49.128003</td>\n",
       "      <td>2020</td>\n",
       "    </tr>\n",
       "    <tr>\n",
       "      <th>10</th>\n",
       "      <td>2020-10-01</td>\n",
       "      <td>10785.01</td>\n",
       "      <td>14028.21</td>\n",
       "      <td>10440.31</td>\n",
       "      <td>13781.00</td>\n",
       "      <td>13781.00</td>\n",
       "      <td>7.479914e+11</td>\n",
       "      <td>34.365838</td>\n",
       "      <td>2020</td>\n",
       "    </tr>\n",
       "    <tr>\n",
       "      <th>11</th>\n",
       "      <td>2020-09-01</td>\n",
       "      <td>11679.32</td>\n",
       "      <td>12067.08</td>\n",
       "      <td>9916.49</td>\n",
       "      <td>10787.62</td>\n",
       "      <td>10787.62</td>\n",
       "      <td>8.938520e+11</td>\n",
       "      <td>21.687008</td>\n",
       "      <td>2020</td>\n",
       "    </tr>\n",
       "    <tr>\n",
       "      <th>12</th>\n",
       "      <td>2020-08-01</td>\n",
       "      <td>11322.57</td>\n",
       "      <td>12359.06</td>\n",
       "      <td>11012.42</td>\n",
       "      <td>11680.82</td>\n",
       "      <td>11680.82</td>\n",
       "      <td>7.083771e+11</td>\n",
       "      <td>12.228375</td>\n",
       "      <td>2020</td>\n",
       "    </tr>\n",
       "    <tr>\n",
       "      <th>13</th>\n",
       "      <td>2020-07-01</td>\n",
       "      <td>9145.99</td>\n",
       "      <td>11415.86</td>\n",
       "      <td>8977.02</td>\n",
       "      <td>11323.47</td>\n",
       "      <td>11323.47</td>\n",
       "      <td>5.458133e+11</td>\n",
       "      <td>27.167590</td>\n",
       "      <td>2020</td>\n",
       "    </tr>\n",
       "    <tr>\n",
       "      <th>14</th>\n",
       "      <td>2020-06-01</td>\n",
       "      <td>9463.61</td>\n",
       "      <td>10199.57</td>\n",
       "      <td>8975.53</td>\n",
       "      <td>9137.99</td>\n",
       "      <td>9137.99</td>\n",
       "      <td>6.509133e+11</td>\n",
       "      <td>13.637523</td>\n",
       "      <td>2020</td>\n",
       "    </tr>\n",
       "  </tbody>\n",
       "</table>\n",
       "</div>"
      ],
      "text/plain": [
       "         date      open      high       low     close  adj_close  \\\n",
       "0  2021-08-01  41460.84  50482.08  37458.00  48960.79   48960.79   \n",
       "1  2021-07-01  35035.98  42235.55  29360.96  41626.20   41626.20   \n",
       "2  2021-06-01  37293.79  41295.27  28893.62  35040.84   35040.84   \n",
       "3  2021-05-01  57714.66  59519.36  30681.50  37332.86   37332.86   \n",
       "4  2021-04-01  58926.56  64863.10  47159.48  57750.18   57750.18   \n",
       "5  2021-03-01  45159.50  61683.86  45115.09  58918.83   58918.83   \n",
       "6  2021-02-01  33114.58  58330.57  32384.23  45137.77   45137.77   \n",
       "7  2021-01-01  28994.01  41946.74  28722.76  33114.36   33114.36   \n",
       "8  2020-12-01  19633.77  29244.88  17619.53  29001.72   29001.72   \n",
       "9  2020-11-01  13781.00  19749.26  13243.16  19625.84   19625.84   \n",
       "10 2020-10-01  10785.01  14028.21  10440.31  13781.00   13781.00   \n",
       "11 2020-09-01  11679.32  12067.08   9916.49  10787.62   10787.62   \n",
       "12 2020-08-01  11322.57  12359.06  11012.42  11680.82   11680.82   \n",
       "13 2020-07-01   9145.99  11415.86   8977.02  11323.47   11323.47   \n",
       "14 2020-06-01   9463.61  10199.57   8975.53   9137.99    9137.99   \n",
       "\n",
       "          volume  amplitude%  Year  \n",
       "0   8.264614e+11   34.769822  2021  \n",
       "1   8.191034e+11   43.849350  2021  \n",
       "2   1.189647e+12   42.921759  2021  \n",
       "3   1.976593e+12   93.991037  2021  \n",
       "4   1.844482e+12   37.539897  2021  \n",
       "5   1.681184e+12   36.725561  2021  \n",
       "6   2.267153e+12   80.120293  2021  \n",
       "7   2.155904e+12   46.040074  2021  \n",
       "8   1.212260e+12   65.979910  2020  \n",
       "9   1.093145e+12   49.128003  2020  \n",
       "10  7.479914e+11   34.365838  2020  \n",
       "11  8.938520e+11   21.687008  2020  \n",
       "12  7.083771e+11   12.228375  2020  \n",
       "13  5.458133e+11   27.167590  2020  \n",
       "14  6.509133e+11   13.637523  2020  "
      ]
     },
     "execution_count": 52,
     "metadata": {},
     "output_type": "execute_result"
    }
   ],
   "source": [
    "df.head(15)"
   ]
  },
  {
   "cell_type": "code",
   "execution_count": 55,
   "id": "e8952ba5",
   "metadata": {},
   "outputs": [
    {
     "data": {
      "text/plain": [
       "array([3.60059384e+12, 3.86621840e+12, 3.47749523e+12, 3.62225134e+12,\n",
       "       4.22179557e+12, 2.69648796e+12, 2.21984902e+12, 2.26825570e+12,\n",
       "       1.56245132e+12, 1.52361449e+12, 2.07463210e+12, 2.43141950e+12])"
      ]
     },
     "execution_count": 55,
     "metadata": {},
     "output_type": "execute_result"
    }
   ],
   "source": [
    "volume = df.groupby(df['date'].dt.month).volume.sum()\n",
    "volume.values"
   ]
  },
  {
   "cell_type": "code",
   "execution_count": 57,
   "id": "d13bfd41",
   "metadata": {},
   "outputs": [
    {
     "data": {
      "image/png": "[encoded data removed]",
      "text/plain": [
       "<Figure size 936x576 with 1 Axes>"
      ]
     },
     "metadata": {
      "needs_background": "light"
     },
     "output_type": "display_data"
    }
   ],
   "source": [
    "#Sum of trade volume each month\n",
    "from matplotlib import pyplot as plt\n",
    "fig = plt.figure(figsize=(13,8)) \n",
    "plt.bar(x = volume.index, height = volume.values, color = 'c')\n",
    "plt.xlabel('Month')\n",
    "plt.ylabel('Volume_Sum: Trillion USD')\n",
    "plt.suptitle(\"Volume Summary against Month\",size = 'x-large')\n",
    "plt.title('data range 2014.10.01-2021.8.25')\n",
    "fig.savefig(\"d:\\output.png\")"
   ]
  },
  {
   "cell_type": "code",
   "execution_count": 58,
   "id": "c8c93be5",
   "metadata": {},
   "outputs": [],
   "source": [
    "df1= df\n",
    "df1['year'] = df['date'].dt.year\n",
    "df1['month'] = df['date'].dt.month\n",
    "df1 = pd.pivot_table(df1,values='volume', index='year',columns='month')\n",
    "df2 = df1"
   ]
  },
  {
   "cell_type": "code",
   "execution_count": 59,
   "id": "e07406ce",
   "metadata": {},
   "outputs": [
    {
     "data": {
      "text/html": [
       "<div>\n",
       "<style scoped>\n",
       "    .dataframe tbody tr th:only-of-type {\n",
       "        vertical-align: middle;\n",
       "    }\n",
       "\n",
       "    .dataframe tbody tr th {\n",
       "        vertical-align: top;\n",
       "    }\n",
       "\n",
       "    .dataframe thead th {\n",
       "        text-align: right;\n",
       "    }\n",
       "</style>\n",
       "<table border=\"1\" class=\"dataframe\">\n",
       "  <thead>\n",
       "    <tr style=\"text-align: right;\">\n",
       "      <th>month</th>\n",
       "      <th>1</th>\n",
       "      <th>2</th>\n",
       "      <th>3</th>\n",
       "      <th>4</th>\n",
       "      <th>5</th>\n",
       "      <th>6</th>\n",
       "      <th>7</th>\n",
       "      <th>8</th>\n",
       "      <th>9</th>\n",
       "      <th>10</th>\n",
       "      <th>11</th>\n",
       "      <th>12</th>\n",
       "      <th>mean</th>\n",
       "    </tr>\n",
       "    <tr>\n",
       "      <th>year</th>\n",
       "      <th></th>\n",
       "      <th></th>\n",
       "      <th></th>\n",
       "      <th></th>\n",
       "      <th></th>\n",
       "      <th></th>\n",
       "      <th></th>\n",
       "      <th></th>\n",
       "      <th></th>\n",
       "      <th></th>\n",
       "      <th></th>\n",
       "      <th></th>\n",
       "      <th></th>\n",
       "    </tr>\n",
       "  </thead>\n",
       "  <tbody>\n",
       "    <tr>\n",
       "      <th>2014</th>\n",
       "      <td>NaN</td>\n",
       "      <td>NaN</td>\n",
       "      <td>NaN</td>\n",
       "      <td>NaN</td>\n",
       "      <td>NaN</td>\n",
       "      <td>NaN</td>\n",
       "      <td>NaN</td>\n",
       "      <td>NaN</td>\n",
       "      <td>NaN</td>\n",
       "      <td>9.029944e+08</td>\n",
       "      <td>6.597334e+08</td>\n",
       "      <td>5.531023e+08</td>\n",
       "      <td>7.052767e+08</td>\n",
       "    </tr>\n",
       "    <tr>\n",
       "      <th>2015</th>\n",
       "      <td>1.098812e+09</td>\n",
       "      <td>7.115187e+08</td>\n",
       "      <td>9.590983e+08</td>\n",
       "      <td>6.723387e+08</td>\n",
       "      <td>5.681226e+08</td>\n",
       "      <td>6.297802e+08</td>\n",
       "      <td>9.998922e+08</td>\n",
       "      <td>9.051923e+08</td>\n",
       "      <td>6.036239e+08</td>\n",
       "      <td>9.532795e+08</td>\n",
       "      <td>2.177623e+09</td>\n",
       "      <td>2.096250e+09</td>\n",
       "      <td>1.031294e+09</td>\n",
       "    </tr>\n",
       "    <tr>\n",
       "      <th>2016</th>\n",
       "      <td>1.990880e+09</td>\n",
       "      <td>1.876239e+09</td>\n",
       "      <td>2.332853e+09</td>\n",
       "      <td>1.811475e+09</td>\n",
       "      <td>2.234433e+09</td>\n",
       "      <td>4.749703e+09</td>\n",
       "      <td>3.454186e+09</td>\n",
       "      <td>2.686220e+09</td>\n",
       "      <td>2.004401e+09</td>\n",
       "      <td>2.115444e+09</td>\n",
       "      <td>2.635773e+09</td>\n",
       "      <td>3.556764e+09</td>\n",
       "      <td>2.620698e+09</td>\n",
       "    </tr>\n",
       "    <tr>\n",
       "      <th>2017</th>\n",
       "      <td>5.143972e+09</td>\n",
       "      <td>4.282761e+09</td>\n",
       "      <td>1.087246e+10</td>\n",
       "      <td>9.757448e+09</td>\n",
       "      <td>3.426186e+10</td>\n",
       "      <td>4.447814e+10</td>\n",
       "      <td>3.261996e+10</td>\n",
       "      <td>6.354802e+10</td>\n",
       "      <td>5.570095e+10</td>\n",
       "      <td>5.800936e+10</td>\n",
       "      <td>1.407350e+11</td>\n",
       "      <td>4.103365e+11</td>\n",
       "      <td>7.247887e+10</td>\n",
       "    </tr>\n",
       "    <tr>\n",
       "      <th>2018</th>\n",
       "      <td>4.162479e+11</td>\n",
       "      <td>2.297178e+11</td>\n",
       "      <td>1.937517e+11</td>\n",
       "      <td>1.965500e+11</td>\n",
       "      <td>1.976117e+11</td>\n",
       "      <td>1.302142e+11</td>\n",
       "      <td>1.414419e+11</td>\n",
       "      <td>1.322928e+11</td>\n",
       "      <td>1.297454e+11</td>\n",
       "      <td>1.184369e+11</td>\n",
       "      <td>1.583595e+11</td>\n",
       "      <td>1.688268e+11</td>\n",
       "      <td>1.844330e+11</td>\n",
       "    </tr>\n",
       "    <tr>\n",
       "      <th>2019</th>\n",
       "      <td>1.673357e+11</td>\n",
       "      <td>1.991007e+11</td>\n",
       "      <td>2.979528e+11</td>\n",
       "      <td>4.453646e+11</td>\n",
       "      <td>7.241579e+11</td>\n",
       "      <td>6.758554e+11</td>\n",
       "      <td>6.764163e+11</td>\n",
       "      <td>5.339850e+11</td>\n",
       "      <td>4.805450e+11</td>\n",
       "      <td>5.952051e+11</td>\n",
       "      <td>6.769195e+11</td>\n",
       "      <td>6.337904e+11</td>\n",
       "      <td>5.088857e+11</td>\n",
       "    </tr>\n",
       "    <tr>\n",
       "      <th>2020</th>\n",
       "      <td>8.528722e+11</td>\n",
       "      <td>1.163376e+12</td>\n",
       "      <td>1.290442e+12</td>\n",
       "      <td>1.123614e+12</td>\n",
       "      <td>1.286368e+12</td>\n",
       "      <td>6.509133e+11</td>\n",
       "      <td>5.458133e+11</td>\n",
       "      <td>7.083771e+11</td>\n",
       "      <td>8.938520e+11</td>\n",
       "      <td>7.479914e+11</td>\n",
       "      <td>1.093145e+12</td>\n",
       "      <td>1.212260e+12</td>\n",
       "      <td>9.640854e+11</td>\n",
       "    </tr>\n",
       "    <tr>\n",
       "      <th>2021</th>\n",
       "      <td>2.155904e+12</td>\n",
       "      <td>2.267153e+12</td>\n",
       "      <td>1.681184e+12</td>\n",
       "      <td>1.844482e+12</td>\n",
       "      <td>1.976593e+12</td>\n",
       "      <td>1.189647e+12</td>\n",
       "      <td>8.191034e+11</td>\n",
       "      <td>8.264614e+11</td>\n",
       "      <td>NaN</td>\n",
       "      <td>NaN</td>\n",
       "      <td>NaN</td>\n",
       "      <td>NaN</td>\n",
       "      <td>1.595066e+12</td>\n",
       "    </tr>\n",
       "  </tbody>\n",
       "</table>\n",
       "</div>"
      ],
      "text/plain": [
       "month             1             2             3             4             5  \\\n",
       "year                                                                          \n",
       "2014            NaN           NaN           NaN           NaN           NaN   \n",
       "2015   1.098812e+09  7.115187e+08  9.590983e+08  6.723387e+08  5.681226e+08   \n",
       "2016   1.990880e+09  1.876239e+09  2.332853e+09  1.811475e+09  2.234433e+09   \n",
       "2017   5.143972e+09  4.282761e+09  1.087246e+10  9.757448e+09  3.426186e+10   \n",
       "2018   4.162479e+11  2.297178e+11  1.937517e+11  1.965500e+11  1.976117e+11   \n",
       "2019   1.673357e+11  1.991007e+11  2.979528e+11  4.453646e+11  7.241579e+11   \n",
       "2020   8.528722e+11  1.163376e+12  1.290442e+12  1.123614e+12  1.286368e+12   \n",
       "2021   2.155904e+12  2.267153e+12  1.681184e+12  1.844482e+12  1.976593e+12   \n",
       "\n",
       "month             6             7             8             9            10  \\\n",
       "year                                                                          \n",
       "2014            NaN           NaN           NaN           NaN  9.029944e+08   \n",
       "2015   6.297802e+08  9.998922e+08  9.051923e+08  6.036239e+08  9.532795e+08   \n",
       "2016   4.749703e+09  3.454186e+09  2.686220e+09  2.004401e+09  2.115444e+09   \n",
       "2017   4.447814e+10  3.261996e+10  6.354802e+10  5.570095e+10  5.800936e+10   \n",
       "2018   1.302142e+11  1.414419e+11  1.322928e+11  1.297454e+11  1.184369e+11   \n",
       "2019   6.758554e+11  6.764163e+11  5.339850e+11  4.805450e+11  5.952051e+11   \n",
       "2020   6.509133e+11  5.458133e+11  7.083771e+11  8.938520e+11  7.479914e+11   \n",
       "2021   1.189647e+12  8.191034e+11  8.264614e+11           NaN           NaN   \n",
       "\n",
       "month            11            12          mean  \n",
       "year                                             \n",
       "2014   6.597334e+08  5.531023e+08  7.052767e+08  \n",
       "2015   2.177623e+09  2.096250e+09  1.031294e+09  \n",
       "2016   2.635773e+09  3.556764e+09  2.620698e+09  \n",
       "2017   1.407350e+11  4.103365e+11  7.247887e+10  \n",
       "2018   1.583595e+11  1.688268e+11  1.844330e+11  \n",
       "2019   6.769195e+11  6.337904e+11  5.088857e+11  \n",
       "2020   1.093145e+12  1.212260e+12  9.640854e+11  \n",
       "2021            NaN           NaN  1.595066e+12  "
      ]
     },
     "execution_count": 59,
     "metadata": {},
     "output_type": "execute_result"
    }
   ],
   "source": [
    "df2['mean'] = df1.mean(axis=1,skipna = True)\n",
    "df2"
   ]
  },
  {
   "cell_type": "code",
   "execution_count": 60,
   "id": "f3177067",
   "metadata": {},
   "outputs": [
    {
     "data": {
      "text/html": [
       "<div>\n",
       "<style scoped>\n",
       "    .dataframe tbody tr th:only-of-type {\n",
       "        vertical-align: middle;\n",
       "    }\n",
       "\n",
       "    .dataframe tbody tr th {\n",
       "        vertical-align: top;\n",
       "    }\n",
       "\n",
       "    .dataframe thead th {\n",
       "        text-align: right;\n",
       "    }\n",
       "</style>\n",
       "<table border=\"1\" class=\"dataframe\">\n",
       "  <thead>\n",
       "    <tr style=\"text-align: right;\">\n",
       "      <th>month</th>\n",
       "      <th>1</th>\n",
       "      <th>2</th>\n",
       "      <th>3</th>\n",
       "      <th>4</th>\n",
       "      <th>5</th>\n",
       "      <th>6</th>\n",
       "      <th>7</th>\n",
       "      <th>8</th>\n",
       "      <th>9</th>\n",
       "      <th>10</th>\n",
       "      <th>11</th>\n",
       "      <th>12</th>\n",
       "    </tr>\n",
       "    <tr>\n",
       "      <th>year</th>\n",
       "      <th></th>\n",
       "      <th></th>\n",
       "      <th></th>\n",
       "      <th></th>\n",
       "      <th></th>\n",
       "      <th></th>\n",
       "      <th></th>\n",
       "      <th></th>\n",
       "      <th></th>\n",
       "      <th></th>\n",
       "      <th></th>\n",
       "      <th></th>\n",
       "    </tr>\n",
       "  </thead>\n",
       "  <tbody>\n",
       "    <tr>\n",
       "      <th>2014</th>\n",
       "      <td>NaN</td>\n",
       "      <td>NaN</td>\n",
       "      <td>NaN</td>\n",
       "      <td>NaN</td>\n",
       "      <td>NaN</td>\n",
       "      <td>NaN</td>\n",
       "      <td>NaN</td>\n",
       "      <td>NaN</td>\n",
       "      <td>NaN</td>\n",
       "      <td>1.280341</td>\n",
       "      <td>0.935425</td>\n",
       "      <td>0.784234</td>\n",
       "    </tr>\n",
       "    <tr>\n",
       "      <th>2015</th>\n",
       "      <td>1.065469</td>\n",
       "      <td>0.689928</td>\n",
       "      <td>0.929995</td>\n",
       "      <td>0.651937</td>\n",
       "      <td>0.550883</td>\n",
       "      <td>0.610670</td>\n",
       "      <td>0.969551</td>\n",
       "      <td>0.877725</td>\n",
       "      <td>0.585307</td>\n",
       "      <td>0.924353</td>\n",
       "      <td>2.111544</td>\n",
       "      <td>2.032640</td>\n",
       "    </tr>\n",
       "    <tr>\n",
       "      <th>2016</th>\n",
       "      <td>0.759676</td>\n",
       "      <td>0.715931</td>\n",
       "      <td>0.890165</td>\n",
       "      <td>0.691219</td>\n",
       "      <td>0.852610</td>\n",
       "      <td>1.812381</td>\n",
       "      <td>1.318041</td>\n",
       "      <td>1.025002</td>\n",
       "      <td>0.764835</td>\n",
       "      <td>0.807206</td>\n",
       "      <td>1.005752</td>\n",
       "      <td>1.357182</td>\n",
       "    </tr>\n",
       "    <tr>\n",
       "      <th>2017</th>\n",
       "      <td>0.070972</td>\n",
       "      <td>0.059090</td>\n",
       "      <td>0.150009</td>\n",
       "      <td>0.134625</td>\n",
       "      <td>0.472715</td>\n",
       "      <td>0.613670</td>\n",
       "      <td>0.450062</td>\n",
       "      <td>0.876780</td>\n",
       "      <td>0.768513</td>\n",
       "      <td>0.800362</td>\n",
       "      <td>1.941739</td>\n",
       "      <td>5.661464</td>\n",
       "    </tr>\n",
       "    <tr>\n",
       "      <th>2018</th>\n",
       "      <td>2.256905</td>\n",
       "      <td>1.245535</td>\n",
       "      <td>1.050526</td>\n",
       "      <td>1.065698</td>\n",
       "      <td>1.071455</td>\n",
       "      <td>0.706024</td>\n",
       "      <td>0.766901</td>\n",
       "      <td>0.717294</td>\n",
       "      <td>0.703482</td>\n",
       "      <td>0.642167</td>\n",
       "      <td>0.858629</td>\n",
       "      <td>0.915383</td>\n",
       "    </tr>\n",
       "    <tr>\n",
       "      <th>2019</th>\n",
       "      <td>0.328828</td>\n",
       "      <td>0.391248</td>\n",
       "      <td>0.585500</td>\n",
       "      <td>0.875176</td>\n",
       "      <td>1.423027</td>\n",
       "      <td>1.328108</td>\n",
       "      <td>1.329211</td>\n",
       "      <td>1.049322</td>\n",
       "      <td>0.944308</td>\n",
       "      <td>1.169624</td>\n",
       "      <td>1.330200</td>\n",
       "      <td>1.245447</td>\n",
       "    </tr>\n",
       "    <tr>\n",
       "      <th>2020</th>\n",
       "      <td>0.884644</td>\n",
       "      <td>1.206715</td>\n",
       "      <td>1.338514</td>\n",
       "      <td>1.165471</td>\n",
       "      <td>1.334289</td>\n",
       "      <td>0.675161</td>\n",
       "      <td>0.566146</td>\n",
       "      <td>0.734766</td>\n",
       "      <td>0.927150</td>\n",
       "      <td>0.775856</td>\n",
       "      <td>1.133867</td>\n",
       "      <td>1.257419</td>\n",
       "    </tr>\n",
       "    <tr>\n",
       "      <th>2021</th>\n",
       "      <td>1.351608</td>\n",
       "      <td>1.421354</td>\n",
       "      <td>1.053990</td>\n",
       "      <td>1.156367</td>\n",
       "      <td>1.239192</td>\n",
       "      <td>0.745830</td>\n",
       "      <td>0.513523</td>\n",
       "      <td>0.518136</td>\n",
       "      <td>NaN</td>\n",
       "      <td>NaN</td>\n",
       "      <td>NaN</td>\n",
       "      <td>NaN</td>\n",
       "    </tr>\n",
       "  </tbody>\n",
       "</table>\n",
       "</div>"
      ],
      "text/plain": [
       "month        1         2         3         4         5         6         7   \\\n",
       "year                                                                          \n",
       "2014        NaN       NaN       NaN       NaN       NaN       NaN       NaN   \n",
       "2015   1.065469  0.689928  0.929995  0.651937  0.550883  0.610670  0.969551   \n",
       "2016   0.759676  0.715931  0.890165  0.691219  0.852610  1.812381  1.318041   \n",
       "2017   0.070972  0.059090  0.150009  0.134625  0.472715  0.613670  0.450062   \n",
       "2018   2.256905  1.245535  1.050526  1.065698  1.071455  0.706024  0.766901   \n",
       "2019   0.328828  0.391248  0.585500  0.875176  1.423027  1.328108  1.329211   \n",
       "2020   0.884644  1.206715  1.338514  1.165471  1.334289  0.675161  0.566146   \n",
       "2021   1.351608  1.421354  1.053990  1.156367  1.239192  0.745830  0.513523   \n",
       "\n",
       "month        8         9         10        11        12  \n",
       "year                                                     \n",
       "2014        NaN       NaN  1.280341  0.935425  0.784234  \n",
       "2015   0.877725  0.585307  0.924353  2.111544  2.032640  \n",
       "2016   1.025002  0.764835  0.807206  1.005752  1.357182  \n",
       "2017   0.876780  0.768513  0.800362  1.941739  5.661464  \n",
       "2018   0.717294  0.703482  0.642167  0.858629  0.915383  \n",
       "2019   1.049322  0.944308  1.169624  1.330200  1.245447  \n",
       "2020   0.734766  0.927150  0.775856  1.133867  1.257419  \n",
       "2021   0.518136       NaN       NaN       NaN       NaN  "
      ]
     },
     "execution_count": 60,
     "metadata": {},
     "output_type": "execute_result"
    }
   ],
   "source": [
    "df3 = df2.iloc[:,:12].copy()\n",
    "for i in range(len(df3)):\n",
    "    for j in df3:\n",
    "        df3.iloc[i,j-1] = (df2.iloc[i,j-1]/df2.iloc[i,12])\n",
    "df3"
   ]
  },
  {
   "cell_type": "code",
   "execution_count": 61,
   "id": "9df211cf",
   "metadata": {},
   "outputs": [
    {
     "data": {
      "text/plain": [
       "Text(0.5, 1.0, 'data range 2014.10.01-2021.8.25')"
      ]
     },
     "execution_count": 61,
     "metadata": {},
     "output_type": "execute_result"
    },
    {
     "data": {
      "image/png": "[encoded data removed]",
      "text/plain": [
       "<Figure size 936x576 with 1 Axes>"
      ]
     },
     "metadata": {
      "needs_background": "light"
     },
     "output_type": "display_data"
    }
   ],
   "source": [
    "#Average of volume each month\n",
    "import seaborn as sns\n",
    "fig = plt.figure(figsize=(13,8)) \n",
    "sns.boxplot(data = df3)\n",
    "plt.xlabel('Month')\n",
    "plt.ylabel('Month Pencentage: Volume/Average(this year)')\n",
    "plt.suptitle(\"Month Volume distribution: find calm and crazy months\",size = 'x-large')\n",
    "plt.title('data range 2014.10.01-2021.8.25')"
   ]
  }
 ],
 "metadata": {
  "kernelspec": {
   "display_name": "Python 3",
   "language": "python",
   "name": "python3"
  },
  "language_info": {
   "codemirror_mode": {
    "name": "ipython",
    "version": 3
   },
   "file_extension": ".py",
   "mimetype": "text/x-python",
   "name": "python",
   "nbconvert_exporter": "python",
   "pygments_lexer": "ipython3",
   "version": "3.8.8"
  }
 },
 "nbformat": 4,
 "nbformat_minor": 5
}
